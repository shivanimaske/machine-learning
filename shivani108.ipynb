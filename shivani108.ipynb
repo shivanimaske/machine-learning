{
  "nbformat": 4,
  "nbformat_minor": 0,
  "metadata": {
    "colab": {
      "provenance": [],
      "authorship_tag": "ABX9TyOJ029EGdBKlDTnS+AmqzUK",
      "include_colab_link": true
    },
    "kernelspec": {
      "name": "python3",
      "display_name": "Python 3"
    },
    "language_info": {
      "name": "python"
    }
  },
  "cells": [
    {
      "cell_type": "markdown",
      "metadata": {
        "id": "view-in-github",
        "colab_type": "text"
      },
      "source": [
        "<a href=\"https://colab.research.google.com/github/shivanimaske/machine-learning/blob/main/shivani108.ipynb\" target=\"_parent\"><img src=\"https://colab.research.google.com/assets/colab-badge.svg\" alt=\"Open In Colab\"/></a>"
      ]
    },
    {
      "cell_type": "code",
      "execution_count": null,
      "metadata": {
        "id": "RwLS6uX6EVcP"
      },
      "outputs": [],
      "source": []
    },
    {
      "cell_type": "markdown",
      "source": [],
      "metadata": {
        "id": "ds8604D_E7_5"
      }
    },
    {
      "cell_type": "code",
      "source": [],
      "metadata": {
        "colab": {
          "base_uri": "https://localhost:8080/"
        },
        "id": "800zuhtKF4ab",
        "outputId": "c2b731f0-5bd7-465f-d2b1-fc08722da241"
      },
      "execution_count": 1,
      "outputs": [
        {
          "output_type": "stream",
          "name": "stdout",
          "text": [
            "30\n"
          ]
        }
      ]
    },
    {
      "cell_type": "markdown",
      "source": [
        "multiplication of two numbers"
      ],
      "metadata": {
        "id": "HNaYo9YLIRtL"
      }
    },
    {
      "cell_type": "code",
      "source": [],
      "metadata": {
        "id": "4mbfqbf5IWVD"
      },
      "execution_count": null,
      "outputs": []
    },
    {
      "cell_type": "code",
      "source": [
        "a=10\n",
        "b=5\n",
        "c=a*b\n",
        "print(c)"
      ],
      "metadata": {
        "colab": {
          "base_uri": "https://localhost:8080/"
        },
        "id": "DGdsYdSwIWV8",
        "outputId": "5ae1445f-e623-4fe1-dfe6-770556833380"
      },
      "execution_count": 2,
      "outputs": [
        {
          "output_type": "stream",
          "name": "stdout",
          "text": [
            "50\n"
          ]
        }
      ]
    },
    {
      "cell_type": "markdown",
      "source": [],
      "metadata": {
        "id": "WQF-f247KA0t"
      }
    },
    {
      "cell_type": "markdown",
      "source": [
        "addition of two numbers"
      ],
      "metadata": {
        "id": "b-xuodJ0KA2z"
      }
    },
    {
      "cell_type": "code",
      "source": [
        "x=10\n",
        "y=15\n",
        "z=x+y\n",
        "print(z)"
      ],
      "metadata": {
        "colab": {
          "base_uri": "https://localhost:8080/"
        },
        "id": "7zdopGnnKEh-",
        "outputId": "322aef1f-4adb-454a-cbe0-8281b0530016"
      },
      "execution_count": 3,
      "outputs": [
        {
          "output_type": "stream",
          "name": "stdout",
          "text": [
            "25\n"
          ]
        }
      ]
    },
    {
      "cell_type": "markdown",
      "source": [],
      "metadata": {
        "id": "TAACuV74IPcE"
      }
    },
    {
      "cell_type": "code",
      "source": [],
      "metadata": {
        "id": "x_4RWT0aFTeT"
      },
      "execution_count": null,
      "outputs": []
    },
    {
      "cell_type": "code",
      "source": [],
      "metadata": {
        "id": "KuV_IvjZFTfL"
      },
      "execution_count": null,
      "outputs": []
    },
    {
      "cell_type": "markdown",
      "source": [],
      "metadata": {
        "id": "bIejPa-vFzTq"
      }
    },
    {
      "cell_type": "code",
      "source": [],
      "metadata": {
        "id": "xqp9dL3TFTf7"
      },
      "execution_count": null,
      "outputs": []
    }
  ]
}